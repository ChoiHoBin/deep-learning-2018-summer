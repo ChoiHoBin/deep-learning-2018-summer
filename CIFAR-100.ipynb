{
 "cells": [
  {
   "cell_type": "code",
   "execution_count": 1,
   "metadata": {},
   "outputs": [
    {
     "name": "stderr",
     "output_type": "stream",
     "text": [
      "C:\\Users\\HoBin\\Anaconda3\\lib\\site-packages\\h5py\\__init__.py:34: FutureWarning: Conversion of the second argument of issubdtype from `float` to `np.floating` is deprecated. In future, it will be treated as `np.float64 == np.dtype(float).type`.\n",
      "  from ._conv import register_converters as _register_converters\n",
      "Using TensorFlow backend.\n"
     ]
    }
   ],
   "source": [
    "# Keras import# Keras \n",
    "import keras\n",
    "from keras.datasets import cifar100\n",
    "from keras.models import Sequential\n",
    "from keras.layers import Dense, Dropout, Flatten, Activation\n",
    "\n",
    "# Sklearn import\n",
    "import sklearn\n",
    "from sklearn.model_selection import train_test_split"
   ]
  },
  {
   "cell_type": "code",
   "execution_count": 2,
   "metadata": {},
   "outputs": [
    {
     "name": "stdout",
     "output_type": "stream",
     "text": [
      "Downloading data from https://www.cs.toronto.edu/~kriz/cifar-100-python.tar.gz\n",
      "169009152/169001437 [==============================] - 136s 1us/step\n",
      "X_train shape: (50000, 32, 32, 3)\n",
      "y_train shape: (50000, 1)\n",
      "X_test shape: (10000, 32, 32, 3)\n",
      "y_test shape: (10000, 1)\n"
     ]
    }
   ],
   "source": [
    "# download\n",
    "(X_train, y_train), (X_test, y_test) = cifar100.load_data()\n",
    "\n",
    "print(\"X_train shape: {}\".format(X_train.shape))\n",
    "print(\"y_train shape: {}\".format(y_train.shape))\n",
    "print(\"X_test shape: {}\".format(X_test.shape))\n",
    "print(\"y_test shape: {}\".format(y_test.shape))"
   ]
  },
  {
   "cell_type": "code",
   "execution_count": 3,
   "metadata": {},
   "outputs": [
    {
     "name": "stdout",
     "output_type": "stream",
     "text": [
      "X_train shape: (50000, 3072)\n",
      "X_test shape: (10000, 3072)\n"
     ]
    }
   ],
   "source": [
    "# nomalization\n",
    "X_train = X_train.reshape(50000, 3072)\n",
    "X_test = X_test.reshape(10000, 3072)\n",
    "X_train = X_train.astype('float32')\n",
    "X_test = X_test.astype('float32')\n",
    "\n",
    "# 0-255\n",
    "X_train /= 255\n",
    "X_test /= 255\n",
    "\n",
    "print(\"X_train shape: {}\".format(X_train.shape))\n",
    "print(\"X_test shape: {}\".format(X_test.shape))"
   ]
  },
  {
   "cell_type": "code",
   "execution_count": 4,
   "metadata": {},
   "outputs": [
    {
     "name": "stdout",
     "output_type": "stream",
     "text": [
      "y_train shape: (50000, 100)\n",
      "y_test shape: (10000, 100)\n",
      "[0. 0. 0. 0. 0. 0. 0. 0. 0. 0. 0. 0. 0. 0. 0. 0. 0. 0. 0. 1. 0. 0. 0. 0.\n",
      " 0. 0. 0. 0. 0. 0. 0. 0. 0. 0. 0. 0. 0. 0. 0. 0. 0. 0. 0. 0. 0. 0. 0. 0.\n",
      " 0. 0. 0. 0. 0. 0. 0. 0. 0. 0. 0. 0. 0. 0. 0. 0. 0. 0. 0. 0. 0. 0. 0. 0.\n",
      " 0. 0. 0. 0. 0. 0. 0. 0. 0. 0. 0. 0. 0. 0. 0. 0. 0. 0. 0. 0. 0. 0. 0. 0.\n",
      " 0. 0. 0. 0.]\n"
     ]
    }
   ],
   "source": [
    "# one-hot incording\n",
    "y_train = keras.utils.to_categorical(y_train, 100)\n",
    "y_test = keras.utils.to_categorical(y_test, 100)\n",
    "\n",
    "print(\"y_train shape: {}\".format(y_train.shape))\n",
    "print(\"y_test shape: {}\".format(y_test.shape))\n",
    "print(y_train[0])"
   ]
  },
  {
   "cell_type": "code",
   "execution_count": 5,
   "metadata": {},
   "outputs": [
    {
     "name": "stdout",
     "output_type": "stream",
     "text": [
      "_________________________________________________________________\n",
      "Layer (type)                 Output Shape              Param #   \n",
      "=================================================================\n",
      "dense_1 (Dense)              (None, 1024)              3146752   \n",
      "_________________________________________________________________\n",
      "dense_2 (Dense)              (None, 1024)              1049600   \n",
      "_________________________________________________________________\n",
      "dense_3 (Dense)              (None, 1024)              1049600   \n",
      "_________________________________________________________________\n",
      "dense_4 (Dense)              (None, 1024)              1049600   \n",
      "_________________________________________________________________\n",
      "dense_5 (Dense)              (None, 100)               102500    \n",
      "=================================================================\n",
      "Total params: 6,398,052\n",
      "Trainable params: 6,398,052\n",
      "Non-trainable params: 0\n",
      "_________________________________________________________________\n"
     ]
    }
   ],
   "source": [
    "model = Sequential()\n",
    "model.add(Dense(1024, activation='relu', input_shape=(3072,)))\n",
    "model.add(Dense(1024, activation='relu'))\n",
    "model.add(Dense(1024, activation='relu'))\n",
    "model.add(Dense(1024, activation='relu'))\n",
    "model.add(Dense(100, activation='softmax'))\n",
    "\n",
    "model.summary()\n",
    "model.compile(\n",
    "            loss=keras.losses.categorical_crossentropy,\n",
    "            optimizer='adam',\n",
    "            metrics=['accuracy']\n",
    ")"
   ]
  },
  {
   "cell_type": "code",
   "execution_count": 6,
   "metadata": {},
   "outputs": [
    {
     "name": "stdout",
     "output_type": "stream",
     "text": [
      "Epoch 1/70\n",
      "50000/50000 [==============================] - 44s 880us/step - loss: 4.1035 - acc: 0.0695\n",
      "Epoch 2/70\n",
      "50000/50000 [==============================] - 42s 843us/step - loss: 3.6751 - acc: 0.1346\n",
      "Epoch 3/70\n",
      "50000/50000 [==============================] - 42s 843us/step - loss: 3.4899 - acc: 0.1655\n",
      "Epoch 4/70\n",
      "50000/50000 [==============================] - 42s 842us/step - loss: 3.3646 - acc: 0.1855\n",
      "Epoch 5/70\n",
      "50000/50000 [==============================] - 42s 844us/step - loss: 3.2352 - acc: 0.2077\n",
      "Epoch 6/70\n",
      "50000/50000 [==============================] - 42s 843us/step - loss: 3.1351 - acc: 0.2255\n",
      "Epoch 7/70\n",
      "50000/50000 [==============================] - 42s 844us/step - loss: 3.0381 - acc: 0.2423\n",
      "Epoch 8/70\n",
      "50000/50000 [==============================] - 42s 844us/step - loss: 2.9400 - acc: 0.2596\n",
      "Epoch 9/70\n",
      "50000/50000 [==============================] - 42s 848us/step - loss: 2.8346 - acc: 0.2776\n",
      "Epoch 10/70\n",
      "50000/50000 [==============================] - 43s 851us/step - loss: 2.7397 - acc: 0.2966\n",
      "Epoch 11/70\n",
      "50000/50000 [==============================] - 43s 851us/step - loss: 2.6118 - acc: 0.3211\n",
      "Epoch 12/70\n",
      "50000/50000 [==============================] - 43s 854us/step - loss: 2.4913 - acc: 0.3425\n",
      "Epoch 13/70\n",
      "50000/50000 [==============================] - 43s 855us/step - loss: 2.3658 - acc: 0.3683\n",
      "Epoch 14/70\n",
      "50000/50000 [==============================] - 43s 856us/step - loss: 2.2149 - acc: 0.4017\n",
      "Epoch 15/70\n",
      "50000/50000 [==============================] - 43s 857us/step - loss: 2.0525 - acc: 0.4386\n",
      "Epoch 16/70\n",
      "50000/50000 [==============================] - 43s 859us/step - loss: 1.8992 - acc: 0.4734\n",
      "Epoch 17/70\n",
      "50000/50000 [==============================] - 43s 859us/step - loss: 1.7304 - acc: 0.5148\n",
      "Epoch 18/70\n",
      "50000/50000 [==============================] - 43s 863us/step - loss: 1.5640 - acc: 0.5554\n",
      "Epoch 19/70\n",
      "50000/50000 [==============================] - 43s 860us/step - loss: 1.3785 - acc: 0.6034\n",
      "Epoch 20/70\n",
      "50000/50000 [==============================] - 43s 860us/step - loss: 1.2320 - acc: 0.6422\n",
      "Epoch 21/70\n",
      "50000/50000 [==============================] - 43s 861us/step - loss: 1.0872 - acc: 0.6827\n",
      "Epoch 22/70\n",
      "50000/50000 [==============================] - 43s 863us/step - loss: 0.9669 - acc: 0.7126\n",
      "Epoch 23/70\n",
      "50000/50000 [==============================] - 43s 863us/step - loss: 0.8714 - acc: 0.7399\n",
      "Epoch 24/70\n",
      "50000/50000 [==============================] - 43s 862us/step - loss: 0.7379 - acc: 0.7772\n",
      "Epoch 25/70\n",
      "50000/50000 [==============================] - 43s 863us/step - loss: 0.6687 - acc: 0.7976\n",
      "Epoch 26/70\n",
      "50000/50000 [==============================] - 43s 862us/step - loss: 0.6149 - acc: 0.8123\n",
      "Epoch 27/70\n",
      "50000/50000 [==============================] - 43s 860us/step - loss: 0.5284 - acc: 0.8391\n",
      "Epoch 28/70\n",
      "50000/50000 [==============================] - 43s 861us/step - loss: 0.5062 - acc: 0.8433\n",
      "Epoch 29/70\n",
      "50000/50000 [==============================] - 43s 863us/step - loss: 0.4527 - acc: 0.8597\n",
      "Epoch 30/70\n",
      "50000/50000 [==============================] - 43s 859us/step - loss: 0.4474 - acc: 0.8622\n",
      "Epoch 31/70\n",
      "50000/50000 [==============================] - 43s 861us/step - loss: 0.3996 - acc: 0.8750\n",
      "Epoch 32/70\n",
      "50000/50000 [==============================] - 43s 861us/step - loss: 0.4141 - acc: 0.8722\n",
      "Epoch 33/70\n",
      "50000/50000 [==============================] - 43s 862us/step - loss: 0.3384 - acc: 0.8945\n",
      "Epoch 34/70\n",
      "50000/50000 [==============================] - 43s 863us/step - loss: 0.3290 - acc: 0.8979\n",
      "Epoch 35/70\n",
      "50000/50000 [==============================] - 43s 863us/step - loss: 0.3930 - acc: 0.8780\n",
      "Epoch 36/70\n",
      "50000/50000 [==============================] - 43s 862us/step - loss: 0.3206 - acc: 0.8994\n",
      "Epoch 37/70\n",
      "50000/50000 [==============================] - 43s 864us/step - loss: 0.3232 - acc: 0.8997\n",
      "Epoch 38/70\n",
      "50000/50000 [==============================] - 43s 864us/step - loss: 0.3218 - acc: 0.9008\n",
      "Epoch 39/70\n",
      "50000/50000 [==============================] - 43s 862us/step - loss: 0.3031 - acc: 0.9083\n",
      "Epoch 40/70\n",
      "50000/50000 [==============================] - 43s 863us/step - loss: 0.2934 - acc: 0.9111\n",
      "Epoch 41/70\n",
      "50000/50000 [==============================] - 43s 863us/step - loss: 0.2935 - acc: 0.9099\n",
      "Epoch 42/70\n",
      "50000/50000 [==============================] - 43s 864us/step - loss: 0.3270 - acc: 0.8998\n",
      "Epoch 43/70\n",
      "50000/50000 [==============================] - 43s 867us/step - loss: 0.2795 - acc: 0.9156\n",
      "Epoch 44/70\n",
      "50000/50000 [==============================] - 43s 865us/step - loss: 0.2747 - acc: 0.9171\n",
      "Epoch 45/70\n",
      "50000/50000 [==============================] - 45s 897us/step - loss: 0.3117 - acc: 0.9064\n",
      "Epoch 46/70\n",
      "50000/50000 [==============================] - 45s 908us/step - loss: 0.2667 - acc: 0.9185\n",
      "Epoch 47/70\n",
      "50000/50000 [==============================] - 46s 916us/step - loss: 0.2509 - acc: 0.9257\n",
      "Epoch 48/70\n",
      "50000/50000 [==============================] - 46s 913us/step - loss: 0.2896 - acc: 0.9148\n",
      "Epoch 49/70\n",
      "50000/50000 [==============================] - 45s 906us/step - loss: 0.2541 - acc: 0.9245\n",
      "Epoch 50/70\n",
      "50000/50000 [==============================] - 44s 889us/step - loss: 0.2956 - acc: 0.9129\n",
      "Epoch 51/70\n",
      "50000/50000 [==============================] - 45s 892us/step - loss: 0.2638 - acc: 0.9201\n",
      "Epoch 52/70\n",
      "50000/50000 [==============================] - 45s 898us/step - loss: 0.3097 - acc: 0.9101\n",
      "Epoch 53/70\n",
      "50000/50000 [==============================] - 48s 950us/step - loss: 0.2514 - acc: 0.92600s - loss: 0.2499 - acc: 0.9\n",
      "Epoch 54/70\n",
      "50000/50000 [==============================] - 45s 897us/step - loss: 0.2508 - acc: 0.9269\n",
      "Epoch 55/70\n",
      "50000/50000 [==============================] - 44s 877us/step - loss: 0.2749 - acc: 0.9211\n",
      "Epoch 56/70\n",
      "50000/50000 [==============================] - 44s 876us/step - loss: 0.3171 - acc: 0.9093\n",
      "Epoch 57/70\n",
      "50000/50000 [==============================] - 44s 875us/step - loss: 0.2318 - acc: 0.9318\n",
      "Epoch 58/70\n",
      "50000/50000 [==============================] - 44s 875us/step - loss: 0.2154 - acc: 0.9373\n",
      "Epoch 59/70\n",
      "50000/50000 [==============================] - 44s 878us/step - loss: 0.3081 - acc: 0.9146\n",
      "Epoch 60/70\n",
      "50000/50000 [==============================] - 44s 876us/step - loss: 0.2457 - acc: 0.9300\n",
      "Epoch 61/70\n",
      "50000/50000 [==============================] - 44s 878us/step - loss: 0.2588 - acc: 0.9274\n",
      "Epoch 62/70\n",
      "50000/50000 [==============================] - 46s 913us/step - loss: 0.2296 - acc: 0.9344\n",
      "Epoch 63/70\n",
      "50000/50000 [==============================] - 44s 890us/step - loss: 0.3092 - acc: 0.9139\n",
      "Epoch 64/70\n",
      "50000/50000 [==============================] - 44s 879us/step - loss: 0.2729 - acc: 0.9243\n",
      "Epoch 65/70\n",
      "50000/50000 [==============================] - 44s 879us/step - loss: 0.2687 - acc: 0.9263\n",
      "Epoch 66/70\n",
      "50000/50000 [==============================] - 44s 878us/step - loss: 0.2403 - acc: 0.9317\n",
      "Epoch 67/70\n",
      "50000/50000 [==============================] - 44s 878us/step - loss: 0.2551 - acc: 0.9298\n",
      "Epoch 68/70\n",
      "50000/50000 [==============================] - 44s 877us/step - loss: 0.2899 - acc: 0.9225\n",
      "Epoch 69/70\n",
      "50000/50000 [==============================] - 44s 877us/step - loss: 0.3010 - acc: 0.9195\n",
      "Epoch 70/70\n",
      "50000/50000 [==============================] - 44s 878us/step - loss: 0.2434 - acc: 0.9332\n",
      "Test loss: 9.472049044799805\n",
      "Test accuracy: 21.75%\n"
     ]
    }
   ],
   "source": [
    "model.fit(\n",
    "    X_train, \n",
    "    y_train,\n",
    "    epochs=70,\n",
    "    batch_size=200,\n",
    "    verbose=1\n",
    ")\n",
    "\n",
    "score = model.evaluate(X_test, y_test, verbose=0)\n",
    "print('Test loss:', score[0])\n",
    "print('Test accuracy: {}%'.format(score[1]*100))"
   ]
  }
 ],
 "metadata": {
  "kernelspec": {
   "display_name": "Python 3",
   "language": "python",
   "name": "python3"
  },
  "language_info": {
   "codemirror_mode": {
    "name": "ipython",
    "version": 3
   },
   "file_extension": ".py",
   "mimetype": "text/x-python",
   "name": "python",
   "nbconvert_exporter": "python",
   "pygments_lexer": "ipython3",
   "version": "3.5.3"
  }
 },
 "nbformat": 4,
 "nbformat_minor": 2
}
