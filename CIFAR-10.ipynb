{
 "cells": [
  {
   "cell_type": "code",
   "execution_count": 2,
   "metadata": {},
   "outputs": [
    {
     "name": "stderr",
     "output_type": "stream",
     "text": [
      "C:\\Users\\HoBin\\Anaconda3\\lib\\site-packages\\h5py\\__init__.py:34: FutureWarning: Conversion of the second argument of issubdtype from `float` to `np.floating` is deprecated. In future, it will be treated as `np.float64 == np.dtype(float).type`.\n",
      "  from ._conv import register_converters as _register_converters\n",
      "Using TensorFlow backend.\n"
     ]
    }
   ],
   "source": [
    "# Keras import# Keras \n",
    "import keras\n",
    "from keras.datasets import cifar10\n",
    "from keras.models import Sequential\n",
    "from keras.layers import Dense, Dropout, Flatten, Activation\n",
    "\n",
    "# Sklearn import\n",
    "import sklearn\n",
    "from sklearn.model_selection import train_test_split"
   ]
  },
  {
   "cell_type": "code",
   "execution_count": 3,
   "metadata": {},
   "outputs": [
    {
     "name": "stdout",
     "output_type": "stream",
     "text": [
      "X_train shape: (50000, 32, 32, 3)\n",
      "y_train shape: (50000, 1)\n",
      "X_test shape: (10000, 32, 32, 3)\n",
      "y_test shape: (10000, 1)\n"
     ]
    }
   ],
   "source": [
    "# download\n",
    "(X_train, y_train), (X_test, y_test) = cifar10.load_data()\n",
    "\n",
    "print(\"X_train shape: {}\".format(X_train.shape))\n",
    "print(\"y_train shape: {}\".format(y_train.shape))\n",
    "print(\"X_test shape: {}\".format(X_test.shape))\n",
    "print(\"y_test shape: {}\".format(y_test.shape))"
   ]
  },
  {
   "cell_type": "code",
   "execution_count": 4,
   "metadata": {},
   "outputs": [
    {
     "name": "stdout",
     "output_type": "stream",
     "text": [
      "X_train shape: (50000, 3072)\n",
      "X_test shape: (10000, 3072)\n"
     ]
    }
   ],
   "source": [
    "# nomalization\n",
    "X_train = X_train.reshape(50000, 3072)\n",
    "X_test = X_test.reshape(10000, 3072)\n",
    "X_train = X_train.astype('float32')\n",
    "X_test = X_test.astype('float32')\n",
    "\n",
    "# 0-255\n",
    "X_train /= 255\n",
    "X_test /= 255\n",
    "\n",
    "print(\"X_train shape: {}\".format(X_train.shape))\n",
    "print(\"X_test shape: {}\".format(X_test.shape))"
   ]
  },
  {
   "cell_type": "code",
   "execution_count": 5,
   "metadata": {},
   "outputs": [
    {
     "name": "stdout",
     "output_type": "stream",
     "text": [
      "y_train shape: (50000, 10)\n",
      "y_test shape: (10000, 10)\n",
      "[0. 0. 0. 0. 0. 0. 1. 0. 0. 0.]\n"
     ]
    }
   ],
   "source": [
    "# one-hot incording\n",
    "y_train = keras.utils.to_categorical(y_train, 10)\n",
    "y_test = keras.utils.to_categorical(y_test, 10)\n",
    "\n",
    "print(\"y_train shape: {}\".format(y_train.shape))\n",
    "print(\"y_test shape: {}\".format(y_test.shape))\n",
    "print(y_train[0])"
   ]
  },
  {
   "cell_type": "code",
   "execution_count": 6,
   "metadata": {},
   "outputs": [
    {
     "name": "stdout",
     "output_type": "stream",
     "text": [
      "_________________________________________________________________\n",
      "Layer (type)                 Output Shape              Param #   \n",
      "=================================================================\n",
      "dense_1 (Dense)              (None, 1024)              3146752   \n",
      "_________________________________________________________________\n",
      "dense_2 (Dense)              (None, 1024)              1049600   \n",
      "_________________________________________________________________\n",
      "dense_3 (Dense)              (None, 1024)              1049600   \n",
      "_________________________________________________________________\n",
      "dense_4 (Dense)              (None, 10)                10250     \n",
      "=================================================================\n",
      "Total params: 5,256,202\n",
      "Trainable params: 5,256,202\n",
      "Non-trainable params: 0\n",
      "_________________________________________________________________\n"
     ]
    }
   ],
   "source": [
    "model =  Sequential()\n",
    "model.add(Dense(1024, activation='relu', input_shape=(3072,)))\n",
    "model.add(Dense(1024, activation='relu'))\n",
    "model.add(Dense(1024, activation='relu'))\n",
    "model.add(Dense(10, activation='softmax'))\n",
    "\n",
    "model.summary()\n",
    "model.compile(\n",
    "            loss=keras.losses.categorical_crossentropy,\n",
    "            optimizer='adam',\n",
    "            metrics=['accuracy']\n",
    ")"
   ]
  },
  {
   "cell_type": "code",
   "execution_count": 7,
   "metadata": {},
   "outputs": [
    {
     "name": "stdout",
     "output_type": "stream",
     "text": [
      "Epoch 1/50\n",
      "50000/50000 [==============================] - 37s 743us/step - loss: 1.9357 - acc: 0.3068\n",
      "Epoch 2/50\n",
      "50000/50000 [==============================] - 34s 680us/step - loss: 1.6777 - acc: 0.3982\n",
      "Epoch 3/50\n",
      "50000/50000 [==============================] - 34s 680us/step - loss: 1.5695 - acc: 0.4387\n",
      "Epoch 4/50\n",
      "50000/50000 [==============================] - 34s 681us/step - loss: 1.5001 - acc: 0.4640\n",
      "Epoch 5/50\n",
      "50000/50000 [==============================] - 34s 683us/step - loss: 1.4498 - acc: 0.4818\n",
      "Epoch 6/50\n",
      "50000/50000 [==============================] - 34s 685us/step - loss: 1.4051 - acc: 0.4981\n",
      "Epoch 7/50\n",
      "50000/50000 [==============================] - 34s 687us/step - loss: 1.3684 - acc: 0.5084\n",
      "Epoch 8/50\n",
      "50000/50000 [==============================] - 34s 690us/step - loss: 1.3283 - acc: 0.5231\n",
      "Epoch 9/50\n",
      "50000/50000 [==============================] - 34s 690us/step - loss: 1.2955 - acc: 0.5339\n",
      "Epoch 10/50\n",
      "50000/50000 [==============================] - 34s 688us/step - loss: 1.2588 - acc: 0.5483\n",
      "Epoch 11/50\n",
      "50000/50000 [==============================] - 35s 691us/step - loss: 1.2133 - acc: 0.5642\n",
      "Epoch 12/50\n",
      "50000/50000 [==============================] - 34s 690us/step - loss: 1.1728 - acc: 0.5798\n",
      "Epoch 13/50\n",
      "50000/50000 [==============================] - 35s 690us/step - loss: 1.1276 - acc: 0.5954\n",
      "Epoch 14/50\n",
      "50000/50000 [==============================] - 35s 691us/step - loss: 1.0865 - acc: 0.6075\n",
      "Epoch 15/50\n",
      "50000/50000 [==============================] - 35s 692us/step - loss: 1.0419 - acc: 0.6266\n",
      "Epoch 16/50\n",
      "50000/50000 [==============================] - 34s 690us/step - loss: 0.9833 - acc: 0.6467\n",
      "Epoch 17/50\n",
      "50000/50000 [==============================] - 34s 690us/step - loss: 0.9237 - acc: 0.6673\n",
      "Epoch 18/50\n",
      "50000/50000 [==============================] - 35s 693us/step - loss: 0.8660 - acc: 0.6886\n",
      "Epoch 19/50\n",
      "50000/50000 [==============================] - 35s 693us/step - loss: 0.8070 - acc: 0.7095\n",
      "Epoch 20/50\n",
      "50000/50000 [==============================] - 35s 692us/step - loss: 0.7407 - acc: 0.7329\n",
      "Epoch 21/50\n",
      "50000/50000 [==============================] - 35s 694us/step - loss: 0.6690 - acc: 0.7629\n",
      "Epoch 22/50\n",
      "50000/50000 [==============================] - 35s 692us/step - loss: 0.6074 - acc: 0.7845\n",
      "Epoch 23/50\n",
      "50000/50000 [==============================] - 35s 694us/step - loss: 0.5492 - acc: 0.8024\n",
      "Epoch 24/50\n",
      "50000/50000 [==============================] - 35s 694us/step - loss: 0.4811 - acc: 0.8277\n",
      "Epoch 25/50\n",
      "50000/50000 [==============================] - 35s 696us/step - loss: 0.4196 - acc: 0.8506\n",
      "Epoch 26/50\n",
      "50000/50000 [==============================] - 35s 696us/step - loss: 0.3929 - acc: 0.8630\n",
      "Epoch 27/50\n",
      "50000/50000 [==============================] - 35s 695us/step - loss: 0.3339 - acc: 0.8828\n",
      "Epoch 28/50\n",
      "50000/50000 [==============================] - 35s 695us/step - loss: 0.3115 - acc: 0.8900\n",
      "Epoch 29/50\n",
      "50000/50000 [==============================] - 35s 695us/step - loss: 0.2813 - acc: 0.9023\n",
      "Epoch 30/50\n",
      "50000/50000 [==============================] - 35s 693us/step - loss: 0.2469 - acc: 0.9144\n",
      "Epoch 31/50\n",
      "50000/50000 [==============================] - 35s 695us/step - loss: 0.2124 - acc: 0.9276\n",
      "Epoch 32/50\n",
      "50000/50000 [==============================] - 35s 697us/step - loss: 0.2327 - acc: 0.9181\n",
      "Epoch 33/50\n",
      "50000/50000 [==============================] - 35s 697us/step - loss: 0.2110 - acc: 0.9268\n",
      "Epoch 34/50\n",
      "50000/50000 [==============================] - 35s 697us/step - loss: 0.1747 - acc: 0.9401\n",
      "Epoch 35/50\n",
      "50000/50000 [==============================] - 35s 697us/step - loss: 0.1752 - acc: 0.9409\n",
      "Epoch 36/50\n",
      "50000/50000 [==============================] - 35s 697us/step - loss: 0.1529 - acc: 0.9476\n",
      "Epoch 37/50\n",
      "50000/50000 [==============================] - 35s 697us/step - loss: 0.1860 - acc: 0.9363\n",
      "Epoch 38/50\n",
      "50000/50000 [==============================] - 35s 697us/step - loss: 0.1602 - acc: 0.9445\n",
      "Epoch 39/50\n",
      "50000/50000 [==============================] - 35s 699us/step - loss: 0.1258 - acc: 0.9579\n",
      "Epoch 40/50\n",
      "50000/50000 [==============================] - 35s 697us/step - loss: 0.1525 - acc: 0.9479\n",
      "Epoch 41/50\n",
      "50000/50000 [==============================] - 35s 697us/step - loss: 0.1858 - acc: 0.9354\n",
      "Epoch 42/50\n",
      "50000/50000 [==============================] - 35s 698us/step - loss: 0.1555 - acc: 0.9464\n",
      "Epoch 43/50\n",
      "50000/50000 [==============================] - 35s 698us/step - loss: 0.1255 - acc: 0.9571\n",
      "Epoch 44/50\n",
      "50000/50000 [==============================] - 35s 696us/step - loss: 0.1350 - acc: 0.9548\n",
      "Epoch 45/50\n",
      "50000/50000 [==============================] - 35s 698us/step - loss: 0.1352 - acc: 0.9533\n",
      "Epoch 46/50\n",
      "50000/50000 [==============================] - 35s 697us/step - loss: 0.0984 - acc: 0.9678\n",
      "Epoch 47/50\n",
      "50000/50000 [==============================] - 35s 697us/step - loss: 0.1337 - acc: 0.9556\n",
      "Epoch 48/50\n",
      "50000/50000 [==============================] - 35s 698us/step - loss: 0.1312 - acc: 0.9567\n",
      "Epoch 49/50\n",
      "50000/50000 [==============================] - 35s 698us/step - loss: 0.1128 - acc: 0.9626\n",
      "Epoch 50/50\n",
      "50000/50000 [==============================] - 35s 698us/step - loss: 0.1320 - acc: 0.9557\n",
      "Test loss: 3.7262487186431885\n",
      "Test accuracy: 50.03999999999999%\n"
     ]
    }
   ],
   "source": [
    "model.fit(\n",
    "    X_train, \n",
    "    y_train,\n",
    "    epochs=50,\n",
    "    batch_size=200,\n",
    "    verbose=1\n",
    ")\n",
    "\n",
    "score = model.evaluate(X_test, y_test, verbose=0)\n",
    "print('Test loss:', score[0])\n",
    "print('Test accuracy: {}%'.format(score[1]*100))"
   ]
  }
 ],
 "metadata": {
  "kernelspec": {
   "display_name": "Python 3",
   "language": "python",
   "name": "python3"
  },
  "language_info": {
   "codemirror_mode": {
    "name": "ipython",
    "version": 3
   },
   "file_extension": ".py",
   "mimetype": "text/x-python",
   "name": "python",
   "nbconvert_exporter": "python",
   "pygments_lexer": "ipython3",
   "version": "3.5.3"
  }
 },
 "nbformat": 4,
 "nbformat_minor": 2
}
